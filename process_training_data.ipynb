{
 "cells": [
  {
   "cell_type": "code",
   "execution_count": 3,
   "metadata": {},
   "outputs": [],
   "source": [
    "import os\n",
    "import numpy as np\n",
    "import pandas as pd\n",
    "from pycocotools.coco import COCO\n",
    "from PIL import Image\n",
    "from albumentations.pytorch import ToTensorV2\n",
    "import albumentations as al\n",
    "import cv2"
   ]
  },
  {
   "cell_type": "code",
   "execution_count": 4,
   "metadata": {},
   "outputs": [],
   "source": [
    "# Data augmentation method\n",
    "\n",
    "transform = al.Compose([\n",
    "    al.Flip(p=0.1),  # flip (horizontal or vertical)\n",
    "    al.ShiftScaleRotate(p=0.2),  # shift, scale, and rotate\n",
    "    al.RandomBrightnessContrast(p=0.2),  # brightness and contrast\n",
    "    ToTensorV2()\n",
    "], is_check_shapes=False)"
   ]
  },
  {
   "cell_type": "code",
   "execution_count": 5,
   "metadata": {},
   "outputs": [
    {
     "name": "stdout",
     "output_type": "stream",
     "text": [
      "loading annotations into memory...\n",
      "Done (t=0.32s)\n",
      "creating index...\n",
      "index created!\n"
     ]
    }
   ],
   "source": [
    "# Extract and augment training data\n",
    "\n",
    "json_file = 'dataset/train/_annotations.coco.json' \n",
    "images_dir = 'dataset/train'\n",
    "\n",
    "# Initialize COCO object\n",
    "coco = COCO(json_file)\n",
    "image_ids = coco.getImgIds()\n",
    "\n",
    "data = []\n",
    "\n",
    "# Collect features for clustering\n",
    "features = []\n",
    "\n",
    "for annotation in coco.anns.values():\n",
    "\n",
    "    img_info = coco.loadImgs(annotation['image_id'])[0]\n",
    "    img_path = os.path.join(images_dir, img_info['file_name'])\n",
    "\n",
    "    # Load image and segmentation mask\n",
    "    image = np.array(Image.open(img_path).convert('RGB'))\n",
    "    segmentation = np.array(annotation['segmentation'])\n",
    "\n",
    "    # Apply data augmentation\n",
    "    augmented = transform(image=image, mask=segmentation)\n",
    "    image = augmented['image']\n",
    "    segmentation = augmented['mask']\n",
    "\n",
    "    # Extract and store image and segmentation features\n",
    "    combined_features = np.concatenate([image.flatten(), segmentation.flatten()])\n",
    "    features.append(combined_features)\n",
    "\n",
    "    # Append data as dictionary\n",
    "    data.append({\n",
    "        'image': image,\n",
    "        'segmentation': segmentation\n",
    "    })\n",
    "\n",
    "df = pd.DataFrame(data)"
   ]
  },
  {
   "cell_type": "code",
   "execution_count": 6,
   "metadata": {},
   "outputs": [
    {
     "name": "stdout",
     "output_type": "stream",
     "text": [
      "                                               image  \\\n",
      "0  [[[tensor(135, dtype=torch.uint8), tensor(133,...   \n",
      "1  [[[tensor(53, dtype=torch.uint8), tensor(55, d...   \n",
      "2  [[[tensor(128, dtype=torch.uint8), tensor(127,...   \n",
      "3  [[[tensor(180, dtype=torch.uint8), tensor(178,...   \n",
      "4  [[[tensor(133, dtype=torch.uint8), tensor(133,...   \n",
      "\n",
      "                                        segmentation  \n",
      "0  [[tensor(205.5000, dtype=torch.float64), tenso...  \n",
      "1  [[tensor(266.3330, dtype=torch.float64), tenso...  \n",
      "2  [[tensor(535.7040, dtype=torch.float64), tenso...  \n",
      "3  [[tensor(253., dtype=torch.float64), tensor(25...  \n",
      "4  [[tensor(130., dtype=torch.float64), tensor(19...  \n"
     ]
    }
   ],
   "source": [
    "print(df.head())"
   ]
  },
  {
   "cell_type": "code",
   "execution_count": 7,
   "metadata": {},
   "outputs": [],
   "source": [
    "# Save to file\n",
    "df.to_csv(\"TRAIN_SET.csv\")"
   ]
  }
 ],
 "metadata": {
  "kernelspec": {
   "display_name": "Python 3",
   "language": "python",
   "name": "python3"
  },
  "language_info": {
   "codemirror_mode": {
    "name": "ipython",
    "version": 3
   },
   "file_extension": ".py",
   "mimetype": "text/x-python",
   "name": "python",
   "nbconvert_exporter": "python",
   "pygments_lexer": "ipython3",
   "version": "3.12.5"
  }
 },
 "nbformat": 4,
 "nbformat_minor": 2
}
